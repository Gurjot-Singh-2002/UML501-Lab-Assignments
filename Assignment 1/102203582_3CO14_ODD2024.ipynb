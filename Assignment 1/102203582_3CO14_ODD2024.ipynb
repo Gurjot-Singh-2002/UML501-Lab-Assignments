{
  "nbformat": 4,
  "nbformat_minor": 0,
  "metadata": {
    "colab": {
      "provenance": [],
      "authorship_tag": "ABX9TyPFgSYpJT3hmKee4U4CBdhZ",
      "include_colab_link": true
    },
    "kernelspec": {
      "name": "python3",
      "display_name": "Python 3"
    },
    "language_info": {
      "name": "python"
    }
  },
  "cells": [
    {
      "cell_type": "markdown",
      "metadata": {
        "id": "view-in-github",
        "colab_type": "text"
      },
      "source": [
        "<a href=\"https://colab.research.google.com/github/Gurjot-Singh-2002/UML501-Assignment-1/blob/main/102203582_3CO14_ODD2024.ipynb\" target=\"_parent\"><img src=\"https://colab.research.google.com/assets/colab-badge.svg\" alt=\"Open In Colab\"/></a>"
      ]
    },
    {
      "cell_type": "markdown",
      "source": [
        "# Gurjot Singh\n",
        "# 102203582\n",
        "# 3CO14\n",
        "# UML501 Assignment 1"
      ],
      "metadata": {
        "id": "jIQF6xvuvqtT"
      }
    },
    {
      "cell_type": "code",
      "source": [
        "import numpy as np"
      ],
      "metadata": {
        "id": "JmFClclp_GaJ"
      },
      "execution_count": 8,
      "outputs": []
    },
    {
      "cell_type": "code",
      "execution_count": null,
      "metadata": {
        "colab": {
          "base_uri": "https://localhost:8080/"
        },
        "id": "BKIUS0wA--PZ",
        "outputId": "0183c575-fc67-4930-b61b-94ae6da3f5ab"
      },
      "outputs": [
        {
          "output_type": "stream",
          "name": "stdout",
          "text": [
            "Final array [5 4 3 2 1]\n"
          ]
        }
      ],
      "source": [
        "arr=np.array([1,2,3,4,5])\n",
        "res = np.flip(arr)\n",
        "print(\"Final array\", str(res))"
      ]
    },
    {
      "cell_type": "code",
      "source": [
        "array1=np.array([[1,2,3],[2,4,5],[1,2,3]])\n",
        "flat = arr.flatten()\n",
        "print(flat)"
      ],
      "metadata": {
        "colab": {
          "base_uri": "https://localhost:8080/"
        },
        "id": "dhauQtRw_vJQ",
        "outputId": "29a8c0c0-452e-4e16-ad9b-414350b35ccb"
      },
      "execution_count": null,
      "outputs": [
        {
          "output_type": "stream",
          "name": "stdout",
          "text": [
            "[1 2 3 4 5]\n"
          ]
        }
      ]
    },
    {
      "cell_type": "code",
      "source": [
        "arr1=np.array([[1,2],[3,4]])\n",
        "arr2=np.array([[1,2],[3,4]])\n",
        "comparison = arr1 == arr2\n",
        "equal_arrays = comparison.all()\n",
        "print(equal_arrays)"
      ],
      "metadata": {
        "colab": {
          "base_uri": "https://localhost:8080/"
        },
        "id": "m8t3RwWa_vF4",
        "outputId": "b67581f1-fbef-4f94-fa97-3d27be1b4b40"
      },
      "execution_count": null,
      "outputs": [
        {
          "output_type": "stream",
          "name": "stdout",
          "text": [
            "True\n"
          ]
        }
      ]
    },
    {
      "cell_type": "code",
      "source": [
        "x=np.array([1,2,3,4,5,1,2,1,1,1])\n",
        "print(\"Most frequent value in above array\")\n",
        "x_count = np.bincount(x)\n",
        "x_maxf=np.argmax(x_count)\n",
        "x_indices=np.where(x==x_maxf)[0]\n",
        "print(x_maxf, x_indices)\n",
        "\n",
        "y=np.array([1,1,1,2,3,4,2,4,3,3])\n",
        "print(\"Most frequent value in above array\")\n",
        "y_count = np.bincount(y)\n",
        "y_maxf=np.argmax(y_count)\n",
        "y_indices=np.where(y==y_maxf)[0]\n",
        "print(y_maxf, y_indices)"
      ],
      "metadata": {
        "colab": {
          "base_uri": "https://localhost:8080/"
        },
        "id": "eJ5Aix5p_u9J",
        "outputId": "49375e8b-f0d5-4eaa-a6b3-bb1a7b961e92"
      },
      "execution_count": null,
      "outputs": [
        {
          "output_type": "stream",
          "name": "stdout",
          "text": [
            "Most frequent value in above array\n",
            "1 [0 5 7 8 9]\n",
            "Most frequent value in above array\n",
            "1 [0 1 2]\n"
          ]
        }
      ]
    },
    {
      "cell_type": "code",
      "source": [
        "gfg=np.matrix('[4,1,9;12 3 1; 4,5,6]')\n",
        "sum = gfg.sum()\n",
        "print(sum)\n",
        "\n",
        "print(\"Sum of each column:\")\n",
        "print(np.sum(gfg, axis=0))\n",
        "\n",
        "print(\"Sum of each row:\")\n",
        "print(np.sum(gfg, axis=1))"
      ],
      "metadata": {
        "colab": {
          "base_uri": "https://localhost:8080/"
        },
        "id": "ZptYAuQOB_qR",
        "outputId": "b5eba715-5402-4b58-df59-ce8a1a3929b0"
      },
      "execution_count": null,
      "outputs": [
        {
          "output_type": "stream",
          "name": "stdout",
          "text": [
            "45\n",
            "Sum of each column:\n",
            "[[20  9 16]]\n",
            "Sum of each row:\n",
            "[[14]\n",
            " [16]\n",
            " [15]]\n"
          ]
        }
      ]
    },
    {
      "cell_type": "code",
      "source": [
        "n_array=np.array([[55,25,15],[30,44,2],[11,45,77]])\n",
        "trace = np.trace(n_array)\n",
        "print(\"Sum of Diagonal elements=\")\n",
        "print(trace)\n",
        "\n",
        "evalue, evect = np.linalg.eig(n_array)\n",
        "print(\"Eigen Values=\")\n",
        "print(evalue)\n",
        "print(\"\")\n",
        "print(\"Eigen Vectors=\")\n",
        "print(evect)\n",
        "\n",
        "inv = np.linalg.inv(n_array)\n",
        "print(\"Inverse of Matrix=\")\n",
        "print(inv)\n",
        "\n",
        "deter=np.linalg.det(n_array)\n",
        "print(\"Determinant=\")\n",
        "print(deter)"
      ],
      "metadata": {
        "colab": {
          "base_uri": "https://localhost:8080/"
        },
        "id": "5szRBNGFJ2Gb",
        "outputId": "7b5e931b-6c3e-4b55-be12-593e21ca6fc3"
      },
      "execution_count": null,
      "outputs": [
        {
          "output_type": "stream",
          "name": "stdout",
          "text": [
            "Sum of Diagonal elements=\n",
            "176\n",
            "Eigen Values=\n",
            "[98.16835147 28.097044   49.73460452]\n",
            "\n",
            "Eigen Vectors=\n",
            "[[ 0.4574917   0.34637121 -0.15017693]\n",
            " [ 0.28447814 -0.72784061 -0.4852124 ]\n",
            " [ 0.84248058  0.59184038  0.8614034 ]]\n",
            "Inverse of Matrix=\n",
            "[[ 0.02404141 -0.00911212 -0.00444671]\n",
            " [-0.01667882  0.02966905  0.0024785 ]\n",
            " [ 0.00631287 -0.01603732  0.01217379]]\n",
            "Determinant=\n",
            "137180.0000000001\n"
          ]
        }
      ]
    },
    {
      "cell_type": "code",
      "source": [
        "p = [[1, 2], [2, 3]]\n",
        "q = [[4, 5], [6, 7]]\n",
        "\n",
        "result = np.dot(p, q)\n",
        "print(\"The matrix multiplication is :\")\n",
        "print(result)\n",
        "\n",
        "covar=np.cov(p,q)\n",
        "print(\"\\nCovariance matrix of the two arrays:\\n\", covar)"
      ],
      "metadata": {
        "id": "kIiDQfjWB_mB",
        "colab": {
          "base_uri": "https://localhost:8080/"
        },
        "outputId": "9b911649-ab65-4f85-ec41-f80f776ea0da"
      },
      "execution_count": null,
      "outputs": [
        {
          "output_type": "stream",
          "name": "stdout",
          "text": [
            "The matrix multiplication is :\n",
            "[[16 19]\n",
            " [26 31]]\n",
            "\n",
            "Covariance matrix of the two arrays:\n",
            " [[0.5 0.5 0.5 0.5]\n",
            " [0.5 0.5 0.5 0.5]\n",
            " [0.5 0.5 0.5 0.5]\n",
            " [0.5 0.5 0.5 0.5]]\n"
          ]
        }
      ]
    },
    {
      "cell_type": "code",
      "source": [
        "p = [[1, 2], [2, 3], [4, 5]]\n",
        "q = [[4, 5, 1], [6, 7, 2]]\n",
        "\n",
        "result = np.dot(p, q)\n",
        "print(\"The matrix multiplication is :\")\n",
        "print(result)\n",
        "\n",
        "covar=np.cov(p,q)\n",
        "print(\"\\nCovariance matrix of the two arrays:\\n\", covar)"
      ],
      "metadata": {
        "id": "SuIA0sbQB_hR",
        "colab": {
          "base_uri": "https://localhost:8080/",
          "height": 402
        },
        "outputId": "f5ee2d52-fec4-46b0-d3d2-4390e038ad62"
      },
      "execution_count": null,
      "outputs": [
        {
          "output_type": "stream",
          "name": "stdout",
          "text": [
            "The matrix multiplication is :\n",
            "[[16 19  5]\n",
            " [26 31  8]\n",
            " [46 55 14]]\n"
          ]
        },
        {
          "output_type": "error",
          "ename": "ValueError",
          "evalue": "all the input array dimensions except for the concatenation axis must match exactly, but along dimension 1, the array at index 0 has size 2 and the array at index 1 has size 3",
          "traceback": [
            "\u001b[0;31m---------------------------------------------------------------------------\u001b[0m",
            "\u001b[0;31mValueError\u001b[0m                                Traceback (most recent call last)",
            "\u001b[0;32m<ipython-input-9-3ff784f93e79>\u001b[0m in \u001b[0;36m<cell line: 8>\u001b[0;34m()\u001b[0m\n\u001b[1;32m      6\u001b[0m \u001b[0mprint\u001b[0m\u001b[0;34m(\u001b[0m\u001b[0mresult\u001b[0m\u001b[0;34m)\u001b[0m\u001b[0;34m\u001b[0m\u001b[0;34m\u001b[0m\u001b[0m\n\u001b[1;32m      7\u001b[0m \u001b[0;34m\u001b[0m\u001b[0m\n\u001b[0;32m----> 8\u001b[0;31m \u001b[0mcovar\u001b[0m\u001b[0;34m=\u001b[0m\u001b[0mnp\u001b[0m\u001b[0;34m.\u001b[0m\u001b[0mcov\u001b[0m\u001b[0;34m(\u001b[0m\u001b[0mp\u001b[0m\u001b[0;34m,\u001b[0m\u001b[0mq\u001b[0m\u001b[0;34m)\u001b[0m\u001b[0;34m\u001b[0m\u001b[0;34m\u001b[0m\u001b[0m\n\u001b[0m\u001b[1;32m      9\u001b[0m \u001b[0mprint\u001b[0m\u001b[0;34m(\u001b[0m\u001b[0;34m\"\\nCovariance matrix of the two arrays:\\n\"\u001b[0m\u001b[0;34m,\u001b[0m \u001b[0mcovar\u001b[0m\u001b[0;34m)\u001b[0m\u001b[0;34m\u001b[0m\u001b[0;34m\u001b[0m\u001b[0m\n",
            "\u001b[0;32m/usr/local/lib/python3.10/dist-packages/numpy/lib/function_base.py\u001b[0m in \u001b[0;36mcov\u001b[0;34m(m, y, rowvar, bias, ddof, fweights, aweights, dtype)\u001b[0m\n\u001b[1;32m   2681\u001b[0m         \u001b[0;32mif\u001b[0m \u001b[0;32mnot\u001b[0m \u001b[0mrowvar\u001b[0m \u001b[0;32mand\u001b[0m \u001b[0my\u001b[0m\u001b[0;34m.\u001b[0m\u001b[0mshape\u001b[0m\u001b[0;34m[\u001b[0m\u001b[0;36m0\u001b[0m\u001b[0;34m]\u001b[0m \u001b[0;34m!=\u001b[0m \u001b[0;36m1\u001b[0m\u001b[0;34m:\u001b[0m\u001b[0;34m\u001b[0m\u001b[0;34m\u001b[0m\u001b[0m\n\u001b[1;32m   2682\u001b[0m             \u001b[0my\u001b[0m \u001b[0;34m=\u001b[0m \u001b[0my\u001b[0m\u001b[0;34m.\u001b[0m\u001b[0mT\u001b[0m\u001b[0;34m\u001b[0m\u001b[0;34m\u001b[0m\u001b[0m\n\u001b[0;32m-> 2683\u001b[0;31m         \u001b[0mX\u001b[0m \u001b[0;34m=\u001b[0m \u001b[0mnp\u001b[0m\u001b[0;34m.\u001b[0m\u001b[0mconcatenate\u001b[0m\u001b[0;34m(\u001b[0m\u001b[0;34m(\u001b[0m\u001b[0mX\u001b[0m\u001b[0;34m,\u001b[0m \u001b[0my\u001b[0m\u001b[0;34m)\u001b[0m\u001b[0;34m,\u001b[0m \u001b[0maxis\u001b[0m\u001b[0;34m=\u001b[0m\u001b[0;36m0\u001b[0m\u001b[0;34m)\u001b[0m\u001b[0;34m\u001b[0m\u001b[0;34m\u001b[0m\u001b[0m\n\u001b[0m\u001b[1;32m   2684\u001b[0m \u001b[0;34m\u001b[0m\u001b[0m\n\u001b[1;32m   2685\u001b[0m     \u001b[0;32mif\u001b[0m \u001b[0mddof\u001b[0m \u001b[0;32mis\u001b[0m \u001b[0;32mNone\u001b[0m\u001b[0;34m:\u001b[0m\u001b[0;34m\u001b[0m\u001b[0;34m\u001b[0m\u001b[0m\n",
            "\u001b[0;31mValueError\u001b[0m: all the input array dimensions except for the concatenation axis must match exactly, but along dimension 1, the array at index 0 has size 2 and the array at index 1 has size 3"
          ]
        }
      ]
    },
    {
      "cell_type": "code",
      "source": [
        "x = np.array([[2, 3, 4], [3, 2, 9]])\n",
        "y = np.array([[1, 5, 0], [5, 10, 3]])\n",
        "\n",
        "print(\"\\nInner product of matrices x and y =\")\n",
        "print(np.inner(x, y))\n",
        "print(\"\\nOuter product of vectors a and b =\")\n",
        "print(np.outer(x, y))\n",
        "print(\"\\nCross product of matrices x and y =\")\n",
        "print(np.cross(x, y))"
      ],
      "metadata": {
        "colab": {
          "base_uri": "https://localhost:8080/"
        },
        "id": "JP5hx8SDVhey",
        "outputId": "0e3e4541-09a3-4953-ead4-2fd929a21805"
      },
      "execution_count": null,
      "outputs": [
        {
          "output_type": "stream",
          "name": "stdout",
          "text": [
            "\n",
            "Inner product of matrices x and y =\n",
            "[[17 52]\n",
            " [13 62]]\n",
            "\n",
            "Outer product of vectors a and b =\n",
            "[[ 2 10  0 10 20  6]\n",
            " [ 3 15  0 15 30  9]\n",
            " [ 4 20  0 20 40 12]\n",
            " [ 3 15  0 15 30  9]\n",
            " [ 2 10  0 10 20  6]\n",
            " [ 9 45  0 45 90 27]]\n",
            "\n",
            "Cross product of matrices x and y =\n",
            "[[-20   4   7]\n",
            " [-84  36  20]]\n"
          ]
        }
      ]
    },
    {
      "cell_type": "code",
      "source": [
        "array = np.array([[1, -2, 3],[-4, 5, -6]])\n",
        "\n",
        "abs_values = np.abs(array)\n",
        "print(\"Element-wise absolute values:\\n\", abs_values)"
      ],
      "metadata": {
        "id": "wFOZAnykVhX5",
        "colab": {
          "base_uri": "https://localhost:8080/"
        },
        "outputId": "2a9c5142-92d7-4e3e-9e6a-ce3821fa9bdf"
      },
      "execution_count": 13,
      "outputs": [
        {
          "output_type": "stream",
          "name": "stdout",
          "text": [
            "Element-wise absolute values:\n",
            " [[1 2 3]\n",
            " [4 5 6]]\n"
          ]
        }
      ]
    },
    {
      "cell_type": "code",
      "source": [
        "percentiles_flattened = np.percentile(array, [25, 50, 75])\n",
        "\n",
        "# Column-wise percentiles\n",
        "percentiles_columns = np.percentile(array, [25, 50, 75], axis=0)\n",
        "\n",
        "# Row-wise percentiles\n",
        "percentiles_rows = np.percentile(array, [25, 50, 75], axis=1)\n",
        "\n",
        "# Print results\n",
        "print(\"Flattened array percentiles:\")\n",
        "print(f\"25th: {percentiles_flattened[0]}\")\n",
        "print(f\"50th (Median): {percentiles_flattened[1]}\")\n",
        "print(f\"75th: {percentiles_flattened[2]}\\n\")\n",
        "\n",
        "print(\"Column-wise percentiles:\")\n",
        "print(f\"25th: {percentiles_columns[0]}\")\n",
        "print(f\"50th (Median): {percentiles_columns[1]}\")\n",
        "print(f\"75th: {percentiles_columns[2]}\\n\")\n",
        "\n",
        "print(\"Row-wise percentiles:\")\n",
        "print(f\"25th: {percentiles_rows[0]}\")\n",
        "print(f\"50th (Median): {percentiles_rows[1]}\")\n",
        "print(f\"75th: {percentiles_rows[2]}\")"
      ],
      "metadata": {
        "colab": {
          "base_uri": "https://localhost:8080/"
        },
        "id": "irikMWWgiQDO",
        "outputId": "64eb9de5-ce0b-4349-ebe0-0bf2ee2f9ad0"
      },
      "execution_count": 14,
      "outputs": [
        {
          "output_type": "stream",
          "name": "stdout",
          "text": [
            "Flattened array percentiles:\n",
            "25th: -3.5\n",
            "50th (Median): -0.5\n",
            "75th: 2.5\n",
            "\n",
            "Column-wise percentiles:\n",
            "25th: [-2.75 -0.25 -3.75]\n",
            "50th (Median): [-1.5  1.5 -1.5]\n",
            "75th: [-0.25  3.25  0.75]\n",
            "\n",
            "Row-wise percentiles:\n",
            "25th: [-0.5 -5. ]\n",
            "50th (Median): [ 1. -4.]\n",
            "75th: [2.  0.5]\n"
          ]
        }
      ]
    },
    {
      "cell_type": "code",
      "source": [
        "# Flattened array statistics\n",
        "flattened_array = array.flatten()\n",
        "mean_flattened = np.mean(flattened_array)\n",
        "median_flattened = np.median(flattened_array)\n",
        "std_flattened = np.std(flattened_array)\n",
        "\n",
        "# Column-wise statistics\n",
        "mean_columns = np.mean(array, axis=0)\n",
        "median_columns = np.median(array, axis=0)\n",
        "std_columns = np.std(array, axis=0)\n",
        "\n",
        "# Row-wise statistics\n",
        "mean_rows = np.mean(array, axis=1)\n",
        "median_rows = np.median(array, axis=1)\n",
        "std_rows = np.std(array, axis=1)\n",
        "\n",
        "print(\"Flattened array statistics:\")\n",
        "print(f\"Mean: {mean_flattened}\")\n",
        "print(f\"Median: {median_flattened}\")\n",
        "print(f\"Standard Deviation: {std_flattened}\\n\")\n",
        "\n",
        "print(\"Column-wise statistics:\")\n",
        "print(f\"Mean: {mean_columns}\")\n",
        "print(f\"Median: {median_columns}\")\n",
        "print(f\"Standard Deviation: {std_columns}\\n\")\n",
        "\n",
        "print(\"Row-wise statistics:\")\n",
        "print(f\"Mean: {mean_rows}\")\n",
        "print(f\"Median: {median_rows}\")\n",
        "print(f\"Standard Deviation: {std_rows}\")"
      ],
      "metadata": {
        "colab": {
          "base_uri": "https://localhost:8080/"
        },
        "id": "6MZeXIQ7im6S",
        "outputId": "cfc6436a-ea5c-4802-8184-1280a76797dd"
      },
      "execution_count": 15,
      "outputs": [
        {
          "output_type": "stream",
          "name": "stdout",
          "text": [
            "Flattened array statistics:\n",
            "Mean: -0.5\n",
            "Median: -0.5\n",
            "Standard Deviation: 3.8622100754188224\n",
            "\n",
            "Column-wise statistics:\n",
            "Mean: [-1.5  1.5 -1.5]\n",
            "Median: [-1.5  1.5 -1.5]\n",
            "Standard Deviation: [2.5 3.5 4.5]\n",
            "\n",
            "Row-wise statistics:\n",
            "Mean: [ 0.66666667 -1.66666667]\n",
            "Median: [ 1. -4.]\n",
            "Standard Deviation: [2.05480467 4.78423336]\n"
          ]
        }
      ]
    },
    {
      "cell_type": "code",
      "source": [
        "a = np.array([-1.8, -1.6, -0.5, 0.5,1.6, 1.8, 3.0])\n",
        "floor = np.floor(a)\n",
        "ceiling = np.ceil(a)\n",
        "truncated = np.trunc(a)\n",
        "rounded = np.round(a)\n",
        "print(\"Floor values:\", floor)\n",
        "print(\"Ceiling values:\", ceiling)\n",
        "print(\"Truncated values:\", truncated)\n",
        "print(\"Rounded values:\", rounded)"
      ],
      "metadata": {
        "id": "48npMLw8VhE3",
        "colab": {
          "base_uri": "https://localhost:8080/"
        },
        "outputId": "40bd7bdd-2df6-4743-e80e-e952a8dd8a2e"
      },
      "execution_count": 16,
      "outputs": [
        {
          "output_type": "stream",
          "name": "stdout",
          "text": [
            "Floor values: [-2. -2. -1.  0.  1.  1.  3.]\n",
            "Ceiling values: [-1. -1. -0.  1.  2.  2.  3.]\n",
            "Truncated values: [-1. -1. -0.  0.  1.  1.  3.]\n",
            "Rounded values: [-2. -2. -0.  0.  2.  2.  3.]\n"
          ]
        }
      ]
    },
    {
      "cell_type": "code",
      "source": [
        "array = np.array([10, 52, 62, 16, 16, 54, 453])\n",
        "\n",
        "sorted_array = np.sort(array)\n",
        "sorted_indices = np.argsort(array)\n",
        "four_smallest_elements = np.partition(array, 4)[:4]\n",
        "five_largest_elements = np.partition(array, -5)[-5:]\n",
        "\n",
        "print(\"Sorted array:\", sorted_array)\n",
        "print(\"Indices of sorted array:\", sorted_indices)\n",
        "print(\"4 smallest elements:\", four_smallest_elements)\n",
        "print(\"5 largest elements:\", five_largest_elements)\n"
      ],
      "metadata": {
        "colab": {
          "base_uri": "https://localhost:8080/"
        },
        "id": "RufH-hN8eJZv",
        "outputId": "f0107fd1-5524-4593-8e69-ef4b41fefc1f"
      },
      "execution_count": 17,
      "outputs": [
        {
          "output_type": "stream",
          "name": "stdout",
          "text": [
            "Sorted array: [ 10  16  16  52  54  62 453]\n",
            "Indices of sorted array: [0 3 4 1 5 2 6]\n",
            "4 smallest elements: [16 10 16 52]\n",
            "5 largest elements: [ 16  52  62  54 453]\n"
          ]
        }
      ]
    },
    {
      "cell_type": "code",
      "source": [
        "array = np.array([1.0, 1.2, 2.2, 2.0, 3.0, 2.0])\n",
        "\n",
        "integer_elements = array[array == np.floor(array)]\n",
        "float_elements = array[array != np.floor(array)]\n",
        "\n",
        "print(\"Integer elements only:\", integer_elements)\n",
        "print(\"Float elements only:\", float_elements)"
      ],
      "metadata": {
        "colab": {
          "base_uri": "https://localhost:8080/"
        },
        "id": "gyPMtIXgeJUd",
        "outputId": "51389b41-5dc2-42ba-e1d1-f04011c63605"
      },
      "execution_count": 18,
      "outputs": [
        {
          "output_type": "stream",
          "name": "stdout",
          "text": [
            "Integer elements only: [1. 2. 3. 2.]\n",
            "Float elements only: [1.2 2.2]\n"
          ]
        }
      ]
    },
    {
      "cell_type": "code",
      "source": [
        "import numpy as np\n",
        "from PIL import Image\n",
        "\n",
        "def img_to_array(path, output_file='image_array.txt'):\n",
        "    # Open the image file\n",
        "    with Image.open(path) as img:\n",
        "        # Convert image to numpy array\n",
        "        img_array = np.array(img)\n",
        "\n",
        "        # Check if the image is RGB or Grayscale\n",
        "        if len(img_array.shape) == 3:\n",
        "            # RGB image\n",
        "            print(\"Image is in RGB format.\")\n",
        "        elif len(img_array.shape) == 2:\n",
        "            # Grayscale image\n",
        "            print(\"Image is in Grayscale format.\")\n",
        "\n",
        "        # Save the array to a text file\n",
        "        np.savetxt(output_file, img_array.reshape(-1, img_array.shape[-1]), fmt='%d')\n",
        "        print(f\"Image array saved to {output_file}\")\n",
        "\n",
        "# Use raw string or other solutions for file path\n",
        "img_to_array(r'C:\\Users\\revol\\Desktop\\iamges.jpg')\n"
      ],
      "metadata": {
        "colab": {
          "base_uri": "https://localhost:8080/",
          "height": 321
        },
        "id": "Z1vIc7MMeJO3",
        "outputId": "1c97c965-e5cc-4445-fe4f-d4e4d28a130b"
      },
      "execution_count": 39,
      "outputs": [
        {
          "output_type": "error",
          "ename": "FileNotFoundError",
          "evalue": "[Errno 2] No such file or directory: 'C:\\\\Users\\\\revol\\\\Desktop\\\\iamges.jpg'",
          "traceback": [
            "\u001b[0;31m---------------------------------------------------------------------------\u001b[0m",
            "\u001b[0;31mFileNotFoundError\u001b[0m                         Traceback (most recent call last)",
            "\u001b[0;32m<ipython-input-39-7a19a4195531>\u001b[0m in \u001b[0;36m<cell line: 23>\u001b[0;34m()\u001b[0m\n\u001b[1;32m     21\u001b[0m \u001b[0;34m\u001b[0m\u001b[0m\n\u001b[1;32m     22\u001b[0m \u001b[0;31m# Use raw string or other solutions for file path\u001b[0m\u001b[0;34m\u001b[0m\u001b[0;34m\u001b[0m\u001b[0m\n\u001b[0;32m---> 23\u001b[0;31m \u001b[0mimg_to_array\u001b[0m\u001b[0;34m(\u001b[0m\u001b[0;34mr'C:\\Users\\revol\\Desktop\\iamges.jpg'\u001b[0m\u001b[0;34m)\u001b[0m\u001b[0;34m\u001b[0m\u001b[0;34m\u001b[0m\u001b[0m\n\u001b[0m",
            "\u001b[0;32m<ipython-input-39-7a19a4195531>\u001b[0m in \u001b[0;36mimg_to_array\u001b[0;34m(path, output_file)\u001b[0m\n\u001b[1;32m      4\u001b[0m \u001b[0;32mdef\u001b[0m \u001b[0mimg_to_array\u001b[0m\u001b[0;34m(\u001b[0m\u001b[0mpath\u001b[0m\u001b[0;34m,\u001b[0m \u001b[0moutput_file\u001b[0m\u001b[0;34m=\u001b[0m\u001b[0;34m'image_array.txt'\u001b[0m\u001b[0;34m)\u001b[0m\u001b[0;34m:\u001b[0m\u001b[0;34m\u001b[0m\u001b[0;34m\u001b[0m\u001b[0m\n\u001b[1;32m      5\u001b[0m     \u001b[0;31m# Open the image file\u001b[0m\u001b[0;34m\u001b[0m\u001b[0;34m\u001b[0m\u001b[0m\n\u001b[0;32m----> 6\u001b[0;31m     \u001b[0;32mwith\u001b[0m \u001b[0mImage\u001b[0m\u001b[0;34m.\u001b[0m\u001b[0mopen\u001b[0m\u001b[0;34m(\u001b[0m\u001b[0mpath\u001b[0m\u001b[0;34m)\u001b[0m \u001b[0;32mas\u001b[0m \u001b[0mimg\u001b[0m\u001b[0;34m:\u001b[0m\u001b[0;34m\u001b[0m\u001b[0;34m\u001b[0m\u001b[0m\n\u001b[0m\u001b[1;32m      7\u001b[0m         \u001b[0;31m# Convert image to numpy array\u001b[0m\u001b[0;34m\u001b[0m\u001b[0;34m\u001b[0m\u001b[0m\n\u001b[1;32m      8\u001b[0m         \u001b[0mimg_array\u001b[0m \u001b[0;34m=\u001b[0m \u001b[0mnp\u001b[0m\u001b[0;34m.\u001b[0m\u001b[0marray\u001b[0m\u001b[0;34m(\u001b[0m\u001b[0mimg\u001b[0m\u001b[0;34m)\u001b[0m\u001b[0;34m\u001b[0m\u001b[0;34m\u001b[0m\u001b[0m\n",
            "\u001b[0;32m/usr/local/lib/python3.10/dist-packages/PIL/Image.py\u001b[0m in \u001b[0;36mopen\u001b[0;34m(fp, mode, formats)\u001b[0m\n\u001b[1;32m   3225\u001b[0m \u001b[0;34m\u001b[0m\u001b[0m\n\u001b[1;32m   3226\u001b[0m     \u001b[0;32mif\u001b[0m \u001b[0mfilename\u001b[0m\u001b[0;34m:\u001b[0m\u001b[0;34m\u001b[0m\u001b[0;34m\u001b[0m\u001b[0m\n\u001b[0;32m-> 3227\u001b[0;31m         \u001b[0mfp\u001b[0m \u001b[0;34m=\u001b[0m \u001b[0mbuiltins\u001b[0m\u001b[0;34m.\u001b[0m\u001b[0mopen\u001b[0m\u001b[0;34m(\u001b[0m\u001b[0mfilename\u001b[0m\u001b[0;34m,\u001b[0m \u001b[0;34m\"rb\"\u001b[0m\u001b[0;34m)\u001b[0m\u001b[0;34m\u001b[0m\u001b[0;34m\u001b[0m\u001b[0m\n\u001b[0m\u001b[1;32m   3228\u001b[0m         \u001b[0mexclusive_fp\u001b[0m \u001b[0;34m=\u001b[0m \u001b[0;32mTrue\u001b[0m\u001b[0;34m\u001b[0m\u001b[0;34m\u001b[0m\u001b[0m\n\u001b[1;32m   3229\u001b[0m \u001b[0;34m\u001b[0m\u001b[0m\n",
            "\u001b[0;31mFileNotFoundError\u001b[0m: [Errno 2] No such file or directory: 'C:\\\\Users\\\\revol\\\\Desktop\\\\iamges.jpg'"
          ]
        }
      ]
    },
    {
      "cell_type": "code",
      "source": [
        "import numpy as np\n",
        "\n",
        "def load_image_array(file_path, original_shape):\n",
        "    # Load the array from the text file\n",
        "    loaded_array = np.loadtxt(file_path, dtype=int)\n",
        "\n",
        "    # Reshape the array to its original shape\n",
        "    if len(original_shape) == 3:\n",
        "        # RGB image\n",
        "        reshaped_array = loaded_array.reshape(original_shape)\n",
        "    elif len(original_shape) == 2:\n",
        "        # Grayscale image\n",
        "        reshaped_array = loaded_array.reshape(original_shape)\n",
        "\n",
        "    return reshaped_array\n",
        "\n",
        "# Example usage\n",
        "#original_shape = (height, width, channels) for RGB or (height, width) for Grayscale\n",
        "#image_array = load_image_array('image_array.txt', original_shape)\n"
      ],
      "metadata": {
        "colab": {
          "base_uri": "https://localhost:8080/",
          "height": 321
        },
        "id": "0TZwgNieeJGw",
        "outputId": "f92b24ab-b54f-4b3a-9da2-20540b8de9fa"
      },
      "execution_count": 42,
      "outputs": [
        {
          "output_type": "error",
          "ename": "FileNotFoundError",
          "evalue": "image_array.txt not found.",
          "traceback": [
            "\u001b[0;31m---------------------------------------------------------------------------\u001b[0m",
            "\u001b[0;31mFileNotFoundError\u001b[0m                         Traceback (most recent call last)",
            "\u001b[0;32m<ipython-input-42-a4ccabde65b2>\u001b[0m in \u001b[0;36m<cell line: 19>\u001b[0;34m()\u001b[0m\n\u001b[1;32m     17\u001b[0m \u001b[0;31m# Example usage\u001b[0m\u001b[0;34m\u001b[0m\u001b[0;34m\u001b[0m\u001b[0m\n\u001b[1;32m     18\u001b[0m \u001b[0moriginal_shape\u001b[0m \u001b[0;34m=\u001b[0m \u001b[0;34m(\u001b[0m\u001b[0;36m44\u001b[0m\u001b[0;34m,\u001b[0m \u001b[0;36m33\u001b[0m\u001b[0;34m,\u001b[0m \u001b[0;36m22\u001b[0m\u001b[0;34m)\u001b[0m\u001b[0;34m\u001b[0m\u001b[0;34m\u001b[0m\u001b[0m\n\u001b[0;32m---> 19\u001b[0;31m \u001b[0mimage_array\u001b[0m \u001b[0;34m=\u001b[0m \u001b[0mload_image_array\u001b[0m\u001b[0;34m(\u001b[0m\u001b[0;34m'image_array.txt'\u001b[0m\u001b[0;34m,\u001b[0m \u001b[0moriginal_shape\u001b[0m\u001b[0;34m)\u001b[0m\u001b[0;34m\u001b[0m\u001b[0;34m\u001b[0m\u001b[0m\n\u001b[0m",
            "\u001b[0;32m<ipython-input-42-a4ccabde65b2>\u001b[0m in \u001b[0;36mload_image_array\u001b[0;34m(file_path, original_shape)\u001b[0m\n\u001b[1;32m      3\u001b[0m \u001b[0;32mdef\u001b[0m \u001b[0mload_image_array\u001b[0m\u001b[0;34m(\u001b[0m\u001b[0mfile_path\u001b[0m\u001b[0;34m,\u001b[0m \u001b[0moriginal_shape\u001b[0m\u001b[0;34m)\u001b[0m\u001b[0;34m:\u001b[0m\u001b[0;34m\u001b[0m\u001b[0;34m\u001b[0m\u001b[0m\n\u001b[1;32m      4\u001b[0m     \u001b[0;31m# Load the array from the text file\u001b[0m\u001b[0;34m\u001b[0m\u001b[0;34m\u001b[0m\u001b[0m\n\u001b[0;32m----> 5\u001b[0;31m     \u001b[0mloaded_array\u001b[0m \u001b[0;34m=\u001b[0m \u001b[0mnp\u001b[0m\u001b[0;34m.\u001b[0m\u001b[0mloadtxt\u001b[0m\u001b[0;34m(\u001b[0m\u001b[0mfile_path\u001b[0m\u001b[0;34m,\u001b[0m \u001b[0mdtype\u001b[0m\u001b[0;34m=\u001b[0m\u001b[0mint\u001b[0m\u001b[0;34m)\u001b[0m\u001b[0;34m\u001b[0m\u001b[0;34m\u001b[0m\u001b[0m\n\u001b[0m\u001b[1;32m      6\u001b[0m \u001b[0;34m\u001b[0m\u001b[0m\n\u001b[1;32m      7\u001b[0m     \u001b[0;31m# Reshape the array to its original shape\u001b[0m\u001b[0;34m\u001b[0m\u001b[0;34m\u001b[0m\u001b[0m\n",
            "\u001b[0;32m/usr/local/lib/python3.10/dist-packages/numpy/lib/npyio.py\u001b[0m in \u001b[0;36mloadtxt\u001b[0;34m(fname, dtype, comments, delimiter, converters, skiprows, usecols, unpack, ndmin, encoding, max_rows, quotechar, like)\u001b[0m\n\u001b[1;32m   1371\u001b[0m         \u001b[0mdelimiter\u001b[0m \u001b[0;34m=\u001b[0m \u001b[0mdelimiter\u001b[0m\u001b[0;34m.\u001b[0m\u001b[0mdecode\u001b[0m\u001b[0;34m(\u001b[0m\u001b[0;34m'latin1'\u001b[0m\u001b[0;34m)\u001b[0m\u001b[0;34m\u001b[0m\u001b[0;34m\u001b[0m\u001b[0m\n\u001b[1;32m   1372\u001b[0m \u001b[0;34m\u001b[0m\u001b[0m\n\u001b[0;32m-> 1373\u001b[0;31m     arr = _read(fname, dtype=dtype, comment=comment, delimiter=delimiter,\n\u001b[0m\u001b[1;32m   1374\u001b[0m                 \u001b[0mconverters\u001b[0m\u001b[0;34m=\u001b[0m\u001b[0mconverters\u001b[0m\u001b[0;34m,\u001b[0m \u001b[0mskiplines\u001b[0m\u001b[0;34m=\u001b[0m\u001b[0mskiprows\u001b[0m\u001b[0;34m,\u001b[0m \u001b[0musecols\u001b[0m\u001b[0;34m=\u001b[0m\u001b[0musecols\u001b[0m\u001b[0;34m,\u001b[0m\u001b[0;34m\u001b[0m\u001b[0;34m\u001b[0m\u001b[0m\n\u001b[1;32m   1375\u001b[0m                 \u001b[0munpack\u001b[0m\u001b[0;34m=\u001b[0m\u001b[0munpack\u001b[0m\u001b[0;34m,\u001b[0m \u001b[0mndmin\u001b[0m\u001b[0;34m=\u001b[0m\u001b[0mndmin\u001b[0m\u001b[0;34m,\u001b[0m \u001b[0mencoding\u001b[0m\u001b[0;34m=\u001b[0m\u001b[0mencoding\u001b[0m\u001b[0;34m,\u001b[0m\u001b[0;34m\u001b[0m\u001b[0;34m\u001b[0m\u001b[0m\n",
            "\u001b[0;32m/usr/local/lib/python3.10/dist-packages/numpy/lib/npyio.py\u001b[0m in \u001b[0;36m_read\u001b[0;34m(fname, delimiter, comment, quote, imaginary_unit, usecols, skiplines, max_rows, converters, ndmin, unpack, dtype, encoding)\u001b[0m\n\u001b[1;32m    990\u001b[0m             \u001b[0mfname\u001b[0m \u001b[0;34m=\u001b[0m \u001b[0mos\u001b[0m\u001b[0;34m.\u001b[0m\u001b[0mfspath\u001b[0m\u001b[0;34m(\u001b[0m\u001b[0mfname\u001b[0m\u001b[0;34m)\u001b[0m\u001b[0;34m\u001b[0m\u001b[0;34m\u001b[0m\u001b[0m\n\u001b[1;32m    991\u001b[0m         \u001b[0;32mif\u001b[0m \u001b[0misinstance\u001b[0m\u001b[0;34m(\u001b[0m\u001b[0mfname\u001b[0m\u001b[0;34m,\u001b[0m \u001b[0mstr\u001b[0m\u001b[0;34m)\u001b[0m\u001b[0;34m:\u001b[0m\u001b[0;34m\u001b[0m\u001b[0;34m\u001b[0m\u001b[0m\n\u001b[0;32m--> 992\u001b[0;31m             \u001b[0mfh\u001b[0m \u001b[0;34m=\u001b[0m \u001b[0mnp\u001b[0m\u001b[0;34m.\u001b[0m\u001b[0mlib\u001b[0m\u001b[0;34m.\u001b[0m\u001b[0m_datasource\u001b[0m\u001b[0;34m.\u001b[0m\u001b[0mopen\u001b[0m\u001b[0;34m(\u001b[0m\u001b[0mfname\u001b[0m\u001b[0;34m,\u001b[0m \u001b[0;34m'rt'\u001b[0m\u001b[0;34m,\u001b[0m \u001b[0mencoding\u001b[0m\u001b[0;34m=\u001b[0m\u001b[0mencoding\u001b[0m\u001b[0;34m)\u001b[0m\u001b[0;34m\u001b[0m\u001b[0;34m\u001b[0m\u001b[0m\n\u001b[0m\u001b[1;32m    993\u001b[0m             \u001b[0;32mif\u001b[0m \u001b[0mencoding\u001b[0m \u001b[0;32mis\u001b[0m \u001b[0;32mNone\u001b[0m\u001b[0;34m:\u001b[0m\u001b[0;34m\u001b[0m\u001b[0;34m\u001b[0m\u001b[0m\n\u001b[1;32m    994\u001b[0m                 \u001b[0mencoding\u001b[0m \u001b[0;34m=\u001b[0m \u001b[0mgetattr\u001b[0m\u001b[0;34m(\u001b[0m\u001b[0mfh\u001b[0m\u001b[0;34m,\u001b[0m \u001b[0;34m'encoding'\u001b[0m\u001b[0;34m,\u001b[0m \u001b[0;34m'latin1'\u001b[0m\u001b[0;34m)\u001b[0m\u001b[0;34m\u001b[0m\u001b[0;34m\u001b[0m\u001b[0m\n",
            "\u001b[0;32m/usr/local/lib/python3.10/dist-packages/numpy/lib/_datasource.py\u001b[0m in \u001b[0;36mopen\u001b[0;34m(path, mode, destpath, encoding, newline)\u001b[0m\n\u001b[1;32m    191\u001b[0m \u001b[0;34m\u001b[0m\u001b[0m\n\u001b[1;32m    192\u001b[0m     \u001b[0mds\u001b[0m \u001b[0;34m=\u001b[0m \u001b[0mDataSource\u001b[0m\u001b[0;34m(\u001b[0m\u001b[0mdestpath\u001b[0m\u001b[0;34m)\u001b[0m\u001b[0;34m\u001b[0m\u001b[0;34m\u001b[0m\u001b[0m\n\u001b[0;32m--> 193\u001b[0;31m     \u001b[0;32mreturn\u001b[0m \u001b[0mds\u001b[0m\u001b[0;34m.\u001b[0m\u001b[0mopen\u001b[0m\u001b[0;34m(\u001b[0m\u001b[0mpath\u001b[0m\u001b[0;34m,\u001b[0m \u001b[0mmode\u001b[0m\u001b[0;34m,\u001b[0m \u001b[0mencoding\u001b[0m\u001b[0;34m=\u001b[0m\u001b[0mencoding\u001b[0m\u001b[0;34m,\u001b[0m \u001b[0mnewline\u001b[0m\u001b[0;34m=\u001b[0m\u001b[0mnewline\u001b[0m\u001b[0;34m)\u001b[0m\u001b[0;34m\u001b[0m\u001b[0;34m\u001b[0m\u001b[0m\n\u001b[0m\u001b[1;32m    194\u001b[0m \u001b[0;34m\u001b[0m\u001b[0m\n\u001b[1;32m    195\u001b[0m \u001b[0;34m\u001b[0m\u001b[0m\n",
            "\u001b[0;32m/usr/local/lib/python3.10/dist-packages/numpy/lib/_datasource.py\u001b[0m in \u001b[0;36mopen\u001b[0;34m(self, path, mode, encoding, newline)\u001b[0m\n\u001b[1;32m    531\u001b[0m                                       encoding=encoding, newline=newline)\n\u001b[1;32m    532\u001b[0m         \u001b[0;32melse\u001b[0m\u001b[0;34m:\u001b[0m\u001b[0;34m\u001b[0m\u001b[0;34m\u001b[0m\u001b[0m\n\u001b[0;32m--> 533\u001b[0;31m             \u001b[0;32mraise\u001b[0m \u001b[0mFileNotFoundError\u001b[0m\u001b[0;34m(\u001b[0m\u001b[0;34mf\"{path} not found.\"\u001b[0m\u001b[0;34m)\u001b[0m\u001b[0;34m\u001b[0m\u001b[0;34m\u001b[0m\u001b[0m\n\u001b[0m\u001b[1;32m    534\u001b[0m \u001b[0;34m\u001b[0m\u001b[0m\n\u001b[1;32m    535\u001b[0m \u001b[0;34m\u001b[0m\u001b[0m\n",
            "\u001b[0;31mFileNotFoundError\u001b[0m: image_array.txt not found."
          ]
        }
      ]
    }
  ]
}
