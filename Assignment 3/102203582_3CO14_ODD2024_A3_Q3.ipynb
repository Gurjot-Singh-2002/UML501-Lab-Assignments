{
  "nbformat": 4,
  "nbformat_minor": 0,
  "metadata": {
    "colab": {
      "provenance": [],
      "authorship_tag": "ABX9TyPtZecMNdr74zV9AvmtmIvi",
      "include_colab_link": true
    },
    "kernelspec": {
      "name": "python3",
      "display_name": "Python 3"
    },
    "language_info": {
      "name": "python"
    }
  },
  "cells": [
    {
      "cell_type": "markdown",
      "metadata": {
        "id": "view-in-github",
        "colab_type": "text"
      },
      "source": [
        "<a href=\"https://colab.research.google.com/github/Gurjot-Singh-2002/UML501-Lab-Assignments/blob/main/Assignment%203/102203582_3CO14_ODD2024_A3_Q3.ipynb\" target=\"_parent\"><img src=\"https://colab.research.google.com/assets/colab-badge.svg\" alt=\"Open In Colab\"/></a>"
      ]
    },
    {
      "cell_type": "markdown",
      "source": [
        "Part 1"
      ],
      "metadata": {
        "id": "d1gmOdUbJPc5"
      }
    },
    {
      "cell_type": "code",
      "execution_count": 30,
      "metadata": {
        "colab": {
          "base_uri": "https://localhost:8080/"
        },
        "id": "m4mIU_-ZAnYc",
        "outputId": "eee4beda-d855-4c80-d1fd-82ea921bb349"
      },
      "outputs": [
        {
          "output_type": "stream",
          "name": "stdout",
          "text": [
            "   symboling  normalized_losses         make fuel_type aspiration num_doors  \\\n",
            "0          3                NaN  alfa-romero       gas        std       two   \n",
            "1          3                NaN  alfa-romero       gas        std       two   \n",
            "2          1                NaN  alfa-romero       gas        std       two   \n",
            "3          2              164.0         audi       gas        std      four   \n",
            "4          2              164.0         audi       gas        std      four   \n",
            "\n",
            "    body_style drive_wheels engine_location  wheel_base  ...  engine_size  \\\n",
            "0  convertible          rwd           front        88.6  ...          130   \n",
            "1  convertible          rwd           front        88.6  ...          130   \n",
            "2    hatchback          rwd           front        94.5  ...          152   \n",
            "3        sedan          fwd           front        99.8  ...          109   \n",
            "4        sedan          4wd           front        99.4  ...          136   \n",
            "\n",
            "   fuel_system  bore  stroke compression_ratio horsepower  peak_rpm city_mpg  \\\n",
            "0         mpfi  3.47    2.68               9.0      111.0    5000.0       21   \n",
            "1         mpfi  3.47    2.68               9.0      111.0    5000.0       21   \n",
            "2         mpfi  2.68    3.47               9.0      154.0    5000.0       19   \n",
            "3         mpfi  3.19    3.40              10.0      102.0    5500.0       24   \n",
            "4         mpfi  3.19    3.40               8.0      115.0    5500.0       18   \n",
            "\n",
            "   highway_mpg    price  \n",
            "0           27  13495.0  \n",
            "1           27  16500.0  \n",
            "2           26  16500.0  \n",
            "3           30  13950.0  \n",
            "4           22  17450.0  \n",
            "\n",
            "[5 rows x 26 columns]\n",
            "\n",
            "Missing values per column:\n",
            " symboling             0\n",
            "normalized_losses    41\n",
            "make                  0\n",
            "fuel_type             0\n",
            "aspiration            0\n",
            "num_doors             2\n",
            "body_style            0\n",
            "drive_wheels          0\n",
            "engine_location       0\n",
            "wheel_base            0\n",
            "length                0\n",
            "width                 0\n",
            "height                0\n",
            "curb_weight           0\n",
            "engine_type           0\n",
            "num_cylinders         0\n",
            "engine_size           0\n",
            "fuel_system           0\n",
            "bore                  4\n",
            "stroke                4\n",
            "compression_ratio     0\n",
            "horsepower            2\n",
            "peak_rpm              2\n",
            "city_mpg              0\n",
            "highway_mpg           0\n",
            "price                 4\n",
            "dtype: int64\n"
          ]
        }
      ],
      "source": [
        "import pandas as pd\n",
        "import numpy as np\n",
        "\n",
        "# Dataset URL and column names\n",
        "url = \"https://archive.ics.uci.edu/ml/machine-learning-databases/autos/imports-85.data\"\n",
        "column_names = [\n",
        "    \"symboling\", \"normalized_losses\", \"make\", \"fuel_type\", \"aspiration\", \"num_doors\",\n",
        "    \"body_style\", \"drive_wheels\", \"engine_location\", \"wheel_base\", \"length\", \"width\",\n",
        "    \"height\", \"curb_weight\", \"engine_type\", \"num_cylinders\", \"engine_size\", \"fuel_system\",\n",
        "    \"bore\", \"stroke\", \"compression_ratio\", \"horsepower\", \"peak_rpm\", \"city_mpg\",\n",
        "    \"highway_mpg\", \"price\"\n",
        "]\n",
        "\n",
        "# Load the dataset and replace '?' with NaN\n",
        "df = pd.read_csv(url, names=column_names, na_values='?')\n",
        "\n",
        "# Display the first few rows and a summary of missing values\n",
        "print(df.head())\n",
        "print(\"\\nMissing values per column:\\n\", df.isna().sum())\n"
      ]
    },
    {
      "cell_type": "markdown",
      "source": [
        "Part 2"
      ],
      "metadata": {
        "id": "owt4pU7JJUE8"
      }
    },
    {
      "cell_type": "code",
      "source": [
        "# Step 1: Drop rows where 'price' is NaN\n",
        "df = df.dropna(subset=['price'])\n",
        "\n",
        "# Step 2: Convert 'price' column to numeric type\n",
        "df['price'] = df['price'].astype(float)\n",
        "\n",
        "# Step 3: Impute numeric columns with median, and categorical with mode\n",
        "for column in df.columns:\n",
        "    if df[column].dtype == 'object':\n",
        "        mode = df[column].mode()[0]\n",
        "        df[column] = df[column].fillna(mode)\n",
        "    else:\n",
        "        median = df[column].median()\n",
        "        df[column] = df[column].fillna(median)\n",
        "\n",
        "# Optional: Check for remaining missing values\n",
        "print(\"Remaining missing values:\\n\", df.isna().sum())\n"
      ],
      "metadata": {
        "colab": {
          "base_uri": "https://localhost:8080/"
        },
        "id": "w_TKIlXqC36x",
        "outputId": "76103d14-335a-41c9-ca0c-66b28ff0cf16"
      },
      "execution_count": 31,
      "outputs": [
        {
          "output_type": "stream",
          "name": "stdout",
          "text": [
            "Remaining missing values:\n",
            " symboling            0\n",
            "normalized_losses    0\n",
            "make                 0\n",
            "fuel_type            0\n",
            "aspiration           0\n",
            "num_doors            0\n",
            "body_style           0\n",
            "drive_wheels         0\n",
            "engine_location      0\n",
            "wheel_base           0\n",
            "length               0\n",
            "width                0\n",
            "height               0\n",
            "curb_weight          0\n",
            "engine_type          0\n",
            "num_cylinders        0\n",
            "engine_size          0\n",
            "fuel_system          0\n",
            "bore                 0\n",
            "stroke               0\n",
            "compression_ratio    0\n",
            "horsepower           0\n",
            "peak_rpm             0\n",
            "city_mpg             0\n",
            "highway_mpg          0\n",
            "price                0\n",
            "dtype: int64\n"
          ]
        },
        {
          "output_type": "stream",
          "name": "stderr",
          "text": [
            "<ipython-input-31-2444076147>:5: SettingWithCopyWarning: \n",
            "A value is trying to be set on a copy of a slice from a DataFrame.\n",
            "Try using .loc[row_indexer,col_indexer] = value instead\n",
            "\n",
            "See the caveats in the documentation: https://pandas.pydata.org/pandas-docs/stable/user_guide/indexing.html#returning-a-view-versus-a-copy\n",
            "  df['price'] = df['price'].astype(float)\n",
            "<ipython-input-31-2444076147>:14: SettingWithCopyWarning: \n",
            "A value is trying to be set on a copy of a slice from a DataFrame.\n",
            "Try using .loc[row_indexer,col_indexer] = value instead\n",
            "\n",
            "See the caveats in the documentation: https://pandas.pydata.org/pandas-docs/stable/user_guide/indexing.html#returning-a-view-versus-a-copy\n",
            "  df[column] = df[column].fillna(median)\n",
            "<ipython-input-31-2444076147>:11: SettingWithCopyWarning: \n",
            "A value is trying to be set on a copy of a slice from a DataFrame.\n",
            "Try using .loc[row_indexer,col_indexer] = value instead\n",
            "\n",
            "See the caveats in the documentation: https://pandas.pydata.org/pandas-docs/stable/user_guide/indexing.html#returning-a-view-versus-a-copy\n",
            "  df[column] = df[column].fillna(mode)\n"
          ]
        }
      ]
    },
    {
      "cell_type": "markdown",
      "source": [
        "Part 3"
      ],
      "metadata": {
        "id": "bAq0WsgUJZnu"
      }
    },
    {
      "cell_type": "code",
      "source": [
        "from sklearn.preprocessing import LabelEncoder\n",
        "\n",
        "# (i) Convert words in \"num_doors\" and \"num_cylinders\" to figures\n",
        "num_doors_map = {'two': 2, 'four': 4, 'five': 5}  # You can add more mappings if needed\n",
        "df['num_doors'] = df['num_doors'].map(num_doors_map)\n",
        "\n",
        "num_cylinders_map = {'two': 2, 'three': 3, 'four': 4, 'five': 5, 'six': 6, 'eight': 8}\n",
        "df['num_cylinders'] = df['num_cylinders'].map(num_cylinders_map)\n",
        "\n",
        "# (ii) Dummy encoding for \"body_style\" and \"drive_wheels\"\n",
        "df = pd.get_dummies(df, columns=['body_style', 'drive_wheels'], drop_first=True)\n",
        "\n",
        "# (iii) Label encoding for \"make\", \"aspiration\", \"engine_location\", and \"fuel_type\"\n",
        "label_encoder = LabelEncoder()\n",
        "df['make'] = label_encoder.fit_transform(df['make'])\n",
        "df['aspiration'] = label_encoder.fit_transform(df['aspiration'])\n",
        "df['engine_location'] = label_encoder.fit_transform(df['engine_location'])\n",
        "df['fuel_type'] = label_encoder.fit_transform(df['fuel_type'])\n",
        "\n",
        "# (iv) For \"fuel_system\", replace values containing \"pfi\" with 1, else 0\n",
        "df['fuel_system'] = df['fuel_system'].apply(lambda x: 1 if 'pfi' in str(x).lower() else 0)\n",
        "\n",
        "# (v) For \"engine_type\", replace values containing \"ohc\" with 1, else 0\n",
        "df['engine_type'] = df['engine_type'].apply(lambda x: 1 if 'ohc' in str(x).lower() else 0)\n",
        "\n",
        "# Display the transformed dataframe and check for remaining non-numeric columns\n",
        "print(df.head())\n"
      ],
      "metadata": {
        "colab": {
          "base_uri": "https://localhost:8080/"
        },
        "id": "8UoPNVE1DfPs",
        "outputId": "f5c8a87b-7ffa-4412-e5d9-15c73125233b"
      },
      "execution_count": 32,
      "outputs": [
        {
          "output_type": "stream",
          "name": "stdout",
          "text": [
            "   symboling  normalized_losses  make  fuel_type  aspiration  num_doors  \\\n",
            "0          3              115.0     0          1           0          2   \n",
            "1          3              115.0     0          1           0          2   \n",
            "2          1              115.0     0          1           0          2   \n",
            "3          2              164.0     1          1           0          4   \n",
            "4          2              164.0     1          1           0          4   \n",
            "\n",
            "   engine_location  wheel_base  length  width  ...  peak_rpm  city_mpg  \\\n",
            "0                0        88.6   168.8   64.1  ...    5000.0        21   \n",
            "1                0        88.6   168.8   64.1  ...    5000.0        21   \n",
            "2                0        94.5   171.2   65.5  ...    5000.0        19   \n",
            "3                0        99.8   176.6   66.2  ...    5500.0        24   \n",
            "4                0        99.4   176.6   66.4  ...    5500.0        18   \n",
            "\n",
            "   highway_mpg    price  body_style_hardtop  body_style_hatchback  \\\n",
            "0           27  13495.0               False                 False   \n",
            "1           27  16500.0               False                 False   \n",
            "2           26  16500.0               False                  True   \n",
            "3           30  13950.0               False                 False   \n",
            "4           22  17450.0               False                 False   \n",
            "\n",
            "   body_style_sedan  body_style_wagon  drive_wheels_fwd  drive_wheels_rwd  \n",
            "0             False             False             False              True  \n",
            "1             False             False             False              True  \n",
            "2             False             False             False              True  \n",
            "3              True             False              True             False  \n",
            "4              True             False             False             False  \n",
            "\n",
            "[5 rows x 30 columns]\n"
          ]
        }
      ]
    },
    {
      "cell_type": "markdown",
      "source": [
        "Part 4"
      ],
      "metadata": {
        "id": "zRxd7NQzJbLI"
      }
    },
    {
      "cell_type": "code",
      "source": [
        "from sklearn.model_selection import train_test_split\n",
        "from sklearn.preprocessing import StandardScaler\n",
        "\n",
        "# Step 1: Divide the dataset into input features (X) and output variable (y)\n",
        "df = df.dropna(subset=['price'])  # Drop rows where 'price' is NaN\n",
        "X = df.drop(columns=['price'])  # Input features\n",
        "y = df['price']  # Output variable\n",
        "\n",
        "# Step 2: Handle missing values for other features (fill NaNs)\n",
        "# For numerical features, we'll fill NaNs with the median (central tendency imputation)\n",
        "for column in X.select_dtypes(include=['float64', 'int64']).columns:\n",
        "    X[column] = X[column].fillna(X[column].median())\n",
        "\n",
        "# For categorical features, fill NaNs with the most frequent value (mode)\n",
        "for column in X.select_dtypes(include=['object']).columns:\n",
        "    X[column] = X[column].fillna(X[column].mode()[0])\n",
        "\n",
        "# Step 3: Ensure no NaNs are left in the input features\n",
        "print(f\"Missing values after imputation in X:\\n{X.isna().sum()}\")  # Check if there are any NaN values left\n",
        "\n",
        "# Step 4: Scale all input features (X) using StandardScaler\n",
        "scaler = StandardScaler()\n",
        "X_scaled = scaler.fit_transform(X)\n"
      ],
      "metadata": {
        "colab": {
          "base_uri": "https://localhost:8080/"
        },
        "id": "nWaHRj8sDfNe",
        "outputId": "0e0e5299-0296-4d93-f572-4744ff6a8a7f"
      },
      "execution_count": 35,
      "outputs": [
        {
          "output_type": "stream",
          "name": "stdout",
          "text": [
            "Missing values after imputation in X:\n",
            "symboling               0\n",
            "normalized_losses       0\n",
            "make                    0\n",
            "fuel_type               0\n",
            "aspiration              0\n",
            "num_doors               0\n",
            "engine_location         0\n",
            "wheel_base              0\n",
            "length                  0\n",
            "width                   0\n",
            "height                  0\n",
            "curb_weight             0\n",
            "engine_type             0\n",
            "num_cylinders           0\n",
            "engine_size             0\n",
            "fuel_system             0\n",
            "bore                    0\n",
            "stroke                  0\n",
            "compression_ratio       0\n",
            "horsepower              0\n",
            "peak_rpm                0\n",
            "city_mpg                0\n",
            "highway_mpg             0\n",
            "body_style_hardtop      0\n",
            "body_style_hatchback    0\n",
            "body_style_sedan        0\n",
            "body_style_wagon        0\n",
            "drive_wheels_fwd        0\n",
            "drive_wheels_rwd        0\n",
            "dtype: int64\n"
          ]
        }
      ]
    },
    {
      "cell_type": "markdown",
      "source": [
        "Part 5"
      ],
      "metadata": {
        "id": "JpYFzQAYJgIf"
      }
    },
    {
      "cell_type": "code",
      "source": [
        "from sklearn.linear_model import LinearRegression\n",
        "from sklearn.metrics import mean_absolute_error, mean_squared_error, r2_score\n",
        "\n",
        "# Step 1: Split the dataset into 70% training and 30% testing sets\n",
        "X_train_70, X_test_30, y_train_70, y_test_30 = train_test_split(X_scaled, y, test_size=0.3, random_state=42)\n",
        "\n",
        "# Step 2: Initialize the Linear Regression model\n",
        "model = LinearRegression()\n",
        "\n",
        "# Step 3: Train the model on the 70% training data\n",
        "model.fit(X_train_70, y_train_70)\n",
        "\n",
        "# Step 4: Make predictions on the 30% testing data\n",
        "y_pred = model.predict(X_test_30)\n",
        "\n",
        "# Step 5: Evaluate the model performance using metrics\n",
        "mae = mean_absolute_error(y_test_30, y_pred)\n",
        "mse = mean_squared_error(y_test_30, y_pred)\n",
        "rmse = np.sqrt(mse)\n",
        "r2 = r2_score(y_test_30, y_pred)\n",
        "\n",
        "# Print the performance metrics\n",
        "print(f\"Mean Absolute Error (MAE): {mae}\")\n",
        "print(f\"Mean Squared Error (MSE): {mse}\")\n",
        "print(f\"Root Mean Squared Error (RMSE): {rmse}\")\n",
        "print(f\"R-squared (R2): {r2}\")"
      ],
      "metadata": {
        "colab": {
          "base_uri": "https://localhost:8080/"
        },
        "id": "OSthEjpADfK4",
        "outputId": "c35217ed-6b96-4920-d30f-ffb15038bfff"
      },
      "execution_count": 36,
      "outputs": [
        {
          "output_type": "stream",
          "name": "stdout",
          "text": [
            "Mean Absolute Error (MAE): 2347.0120875560833\n",
            "Mean Squared Error (MSE): 12079992.765341608\n",
            "Root Mean Squared Error (RMSE): 3475.628398626874\n",
            "R-squared (R2): 0.8725627023472283\n"
          ]
        }
      ]
    },
    {
      "cell_type": "markdown",
      "source": [
        "Part 6"
      ],
      "metadata": {
        "id": "SyrF8A8xLvVI"
      }
    },
    {
      "cell_type": "code",
      "source": [
        "from sklearn.decomposition import PCA\n",
        "from sklearn.linear_model import LinearRegression\n",
        "from sklearn.metrics import mean_absolute_error, mean_squared_error, r2_score\n",
        "from sklearn.model_selection import train_test_split\n",
        "\n",
        "\n",
        "# Step 1: Split the dataset into 70% training and 30% testing sets\n",
        "X_train_70, X_test_30, y_train_70, y_test_30 = train_test_split(X_scaled, y, test_size=0.3, random_state=42)\n",
        "\n",
        "# Step 2: Apply PCA to reduce dimensionality (retain 95% variance)\n",
        "pca = PCA(n_components=0.95)\n",
        "X_train_pca = pca.fit_transform(X_train_70)\n",
        "X_test_pca = pca.transform(X_test_30)\n",
        "\n",
        "# Step 3: Train Linear Regression on PCA-reduced features\n",
        "lr = LinearRegression()\n",
        "lr.fit(X_train_pca, y_train_70)\n",
        "\n",
        "# Step 4: Evaluate performance of Linear Regression on PCA-reduced features\n",
        "y_pred_pca = lr.predict(X_test_pca)\n",
        "mae_pca = mean_absolute_error(y_test_30, y_pred_pca)\n",
        "mse_pca = mean_squared_error(y_test_30, y_pred_pca)\n",
        "rmse_pca = np.sqrt(mse_pca)\n",
        "r2_pca = r2_score(y_test_30, y_pred_pca)\n",
        "\n",
        "# Print performance metrics after PCA\n",
        "print(\"\\nPerformance after PCA (reduced features):\")\n",
        "print(f\"MAE: {mae_pca}, MSE: {mse_pca}, RMSE: {rmse_pca}, R2: {r2_pca}\")\n"
      ],
      "metadata": {
        "colab": {
          "base_uri": "https://localhost:8080/"
        },
        "id": "gyBC4angKrAW",
        "outputId": "3c4de97b-571c-4707-b8c1-7c7d2bfa638b"
      },
      "execution_count": 39,
      "outputs": [
        {
          "output_type": "stream",
          "name": "stdout",
          "text": [
            "\n",
            "Performance after PCA (reduced features):\n",
            "MAE: 2425.1946791521495, MSE: 12434739.427167337, RMSE: 3526.2925895573862, R2: 0.8688203196477852\n"
          ]
        }
      ]
    }
  ]
}